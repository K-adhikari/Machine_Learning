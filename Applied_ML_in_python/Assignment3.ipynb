{
 "cells": [
  {
   "cell_type": "markdown",
   "id": "895e6dc0",
   "metadata": {},
   "source": [
    "__Question 1.__ What percentage of the observations in the dataset are instances of fraud?"
   ]
  },
  {
   "cell_type": "code",
   "execution_count": 1,
   "id": "a6d58b73",
   "metadata": {},
   "outputs": [
    {
     "name": "stdout",
     "output_type": "stream",
     "text": [
      "0.016410823768035772\n"
     ]
    }
   ],
   "source": [
    "import numpy as np\n",
    "import pandas as pd\n",
    "\n",
    "df = pd.read_csv(\"fraud_data.csv\")\n",
    "    \n",
    "fraud = len(df[df['Class'] == 1])\n",
    "    \n",
    "    \n",
    "print(fraud/len(df['Class']))"
   ]
  },
  {
   "cell_type": "markdown",
   "id": "ccaa8e30",
   "metadata": {},
   "source": [
    "__Question 2.__ Split data into training and test set. Train a dummy classifier that classifies everything as the majority class of the training data. What is the accuracy of this classifier? What is the recall?"
   ]
  },
  {
   "cell_type": "code",
   "execution_count": 6,
   "id": "44a83707",
   "metadata": {},
   "outputs": [
    {
     "name": "stdout",
     "output_type": "stream",
     "text": [
      "Accuracy = 0.9852507374631269\n",
      "Recall = 0.0\n"
     ]
    }
   ],
   "source": [
    "from sklearn.model_selection import train_test_split\n",
    "from sklearn.dummy import DummyClassifier\n",
    "from sklearn.metrics import recall_score, accuracy_score\n",
    "    \n",
    "X = df.iloc[:,:-1]\n",
    "y = df.iloc[:,-1]\n",
    "\n",
    "X_train, X_test, y_train, y_test = train_test_split(X, y, random_state=0)\n",
    "    \n",
    "dummy_majority = DummyClassifier(strategy= 'most_frequent').fit(X_train, y_train)\n",
    "y_dummy_predictions = dummy_majority.predict(X_test)\n",
    "    \n",
    "accuracy = accuracy_score(y_test, y_dummy_predictions)\n",
    "recall = recall_score(y_test, y_dummy_predictions)\n",
    "    \n",
    "print('Accuracy =',accuracy)\n",
    "print('Recall =' ,recall)"
   ]
  },
  {
   "cell_type": "markdown",
   "id": "071f32fd",
   "metadata": {},
   "source": [
    "__Question 3.__ Using X_train, X_test, y_train, y_test (as defined above), train a SVC classifer using the default parameters. What is the accuracy, recall, and precision of this classifier?"
   ]
  },
  {
   "cell_type": "code",
   "execution_count": 7,
   "id": "7404c546",
   "metadata": {},
   "outputs": [
    {
     "name": "stdout",
     "output_type": "stream",
     "text": [
      "Accuracy = 0.9900442477876106\n",
      "Recall = 0.35\n",
      "Precision = 0.9333333333333333\n"
     ]
    }
   ],
   "source": [
    "from sklearn.svm import SVC\n",
    "from sklearn.metrics import precision_score\n",
    "\n",
    "svm = SVC().fit(X_train, y_train)\n",
    "svm_predict = svm.predict(X_test)\n",
    "    \n",
    "accuracy = accuracy_score(y_test, svm_predict)\n",
    "precision = precision_score(y_test, svm_predict)\n",
    "recall = recall_score(y_test, svm_predict)\n",
    "    \n",
    "print('Accuracy =',accuracy)\n",
    "print('Recall =' ,recall)\n",
    "print('Precision =' ,precision)"
   ]
  },
  {
   "cell_type": "markdown",
   "id": "9536d7cb",
   "metadata": {},
   "source": [
    "__Question 4.__ Using the SVC classifier with parameters {'C': 1e9, 'gamma': 1e-07}, what is the confusion matrix when using a threshold of -220 on the decision function."
   ]
  },
  {
   "cell_type": "code",
   "execution_count": 8,
   "id": "df4dce6e",
   "metadata": {},
   "outputs": [
    {
     "name": "stdout",
     "output_type": "stream",
     "text": [
      "[[5319   25]\n",
      " [  13   67]]\n"
     ]
    }
   ],
   "source": [
    "from sklearn.metrics import confusion_matrix\n",
    "\n",
    "svm = SVC(C = 1e9, gamma = 1e-07).fit(X_train, y_train)\n",
    "svm_predict = svm.decision_function(X_test)\n",
    "    \n",
    "y_pred = (svm_predict >= -220).astype(int)\n",
    "    \n",
    "print(confusion_matrix(y_test, y_pred))"
   ]
  },
  {
   "cell_type": "markdown",
   "id": "da0487b7",
   "metadata": {},
   "source": [
    "__Question 5.__ Train a logisitic regression classifier with default parameters using X_train and y_train. This classifier should use the parameter solver='liblinear'.\n",
    "\n",
    "For the logisitic regression classifier, compute the scores using decision_function() or with predict_proba(), then create a precision recall curve."
   ]
  },
  {
   "cell_type": "code",
   "execution_count": 9,
   "id": "297b8a5f",
   "metadata": {},
   "outputs": [
    {
     "data": {
      "image/png": "[encoded data removed]",
      "text/plain": [
       "<Figure size 432x288 with 1 Axes>"
      ]
     },
     "metadata": {
      "needs_background": "light"
     },
     "output_type": "display_data"
    }
   ],
   "source": [
    "from sklearn.linear_model import LogisticRegression\n",
    "from sklearn.metrics import precision_recall_curve\n",
    "import matplotlib.pyplot as plt\n",
    "\n",
    "\n",
    "lr = LogisticRegression(solver='liblinear')\n",
    "y_scores_lr = lr.fit(X_train, y_train).decision_function(X_test)\n",
    "\n",
    "precision, recall, thresholds = precision_recall_curve(y_test, y_scores_lr)\n",
    "closest_zero = np.argmin(np.abs(thresholds))\n",
    "closest_zero_p = precision[closest_zero]\n",
    "closest_zero_r = recall[closest_zero]\n",
    "\n",
    "plt.figure()\n",
    "plt.xlim([0.0, 1.01])\n",
    "plt.ylim([0.0, 1.01])\n",
    "plt.plot(precision, recall, label='Precision-Recall Curve')\n",
    "plt.plot(closest_zero_p, closest_zero_r, 'o', markersize = 12, fillstyle = 'none', c='r', mew=3)\n",
    "plt.xlabel('Precision', fontsize=16)\n",
    "plt.ylabel('Recall', fontsize=16)\n",
    "\n",
    "plt.show()"
   ]
  },
  {
   "cell_type": "markdown",
   "id": "282264e5",
   "metadata": {},
   "source": [
    "Looking at the precision recall curve, what is the recall when the precision is 0.75?"
   ]
  },
  {
   "cell_type": "code",
   "execution_count": 10,
   "id": "a7f00587",
   "metadata": {},
   "outputs": [
    {
     "name": "stdout",
     "output_type": "stream",
     "text": [
      "0.825\n"
     ]
    }
   ],
   "source": [
    "target_precision = 0.75\n",
    "\n",
    "idx = (np.abs(precision - target_precision)).argmin()\n",
    "corresponding_recall = recall[idx]\n",
    "print(corresponding_recall)"
   ]
  },
  {
   "cell_type": "markdown",
   "id": "533ccbe2",
   "metadata": {},
   "source": [
    "__Question 6.__ Create a roc curve using y_test and the probability estimates for X_test (probability it is fraud)."
   ]
  },
  {
   "cell_type": "code",
   "execution_count": 13,
   "id": "2785aece",
   "metadata": {},
   "outputs": [
    {
     "data": {
      "image/png": "[encoded data removed]",
      "text/plain": [
       "<Figure size 432x288 with 1 Axes>"
      ]
     },
     "metadata": {
      "needs_background": "light"
     },
     "output_type": "display_data"
    }
   ],
   "source": [
    "from sklearn.metrics import roc_curve, auc\n",
    "\n",
    "fpr_lr, tpr_lr, _ = roc_curve(y_test, y_scores_lr)\n",
    "roc_auc_lr = auc(fpr_lr, tpr_lr)\n",
    "\n",
    "plt.figure()\n",
    "plt.xlim([-0.01, 1.00])\n",
    "plt.ylim([-0.01, 1.01])\n",
    "plt.plot(fpr_lr, tpr_lr, lw=3, label='LogRegr ROC curve (area = {:0.2f})'.format(roc_auc_lr))\n",
    "plt.xlabel('False Positive Rate', fontsize=16)\n",
    "plt.ylabel('True Positive Rate', fontsize=16)\n",
    "plt.title('ROC curve (1-of-10 digits classifier)', fontsize=16)\n",
    "plt.legend(loc='lower right', fontsize=13)\n",
    "plt.plot([0, 1], [0, 1], color='navy', lw=3, linestyle='--')\n",
    "\n",
    "plt.show()"
   ]
  },
  {
   "cell_type": "markdown",
   "id": "2c7b9c23",
   "metadata": {},
   "source": [
    "__Question 7.__ Perform a grid search over the parameters listed below for a Logisitic Regression classifier, using recall for scoring and the default 3-fold cross validation. (Suggest to use solver='liblinear', more explanation here)\n",
    "\n",
    "'penalty': ['l1', 'l2']\n",
    "\n",
    "'C':[0.01, 0.1, 1, 10]\n",
    "\n",
    "From .cv_results_, create an array of the mean test scores of each parameter combination"
   ]
  },
  {
   "cell_type": "code",
   "execution_count": 14,
   "id": "ccf51333",
   "metadata": {},
   "outputs": [
    {
     "name": "stdout",
     "output_type": "stream",
     "text": [
      "[[0.69558442 0.77168831]\n",
      " [0.80792208 0.81155844]\n",
      " [0.80428571 0.81149351]\n",
      " [0.80064935 0.80064935]]\n"
     ]
    }
   ],
   "source": [
    "from sklearn.model_selection import GridSearchCV\n",
    "\n",
    "lr = LogisticRegression(solver='liblinear')\n",
    "    \n",
    "grid_values = {'penalty': ['l1', 'l2'], 'C': [0.01, 0.1, 1, 10]}\n",
    "    \n",
    "grid_clf_rec = GridSearchCV(lr, param_grid = grid_values, scoring ='recall', cv = 5)\n",
    "grid_clf_rec.fit(X_train, y_train)\n",
    "\n",
    "mean_test_scores = np.array(grid_clf_rec.cv_results_['mean_test_score'])\n",
    "    \n",
    "scores = mean_test_scores.reshape(4,2)\n",
    "    \n",
    "print(scores)"
   ]
  },
  {
   "cell_type": "markdown",
   "id": "beeef130",
   "metadata": {},
   "source": [
    "Visualize results from the grid search"
   ]
  },
  {
   "cell_type": "code",
   "execution_count": 15,
   "id": "bec99698",
   "metadata": {},
   "outputs": [
    {
     "data": {
      "image/png": "[encoded data removed]",
      "text/plain": [
       "<Figure size 432x288 with 2 Axes>"
      ]
     },
     "metadata": {
      "needs_background": "light"
     },
     "output_type": "display_data"
    }
   ],
   "source": [
    "import seaborn as sns\n",
    "plt.figure()\n",
    "sns.heatmap(scores.reshape(4,2), xticklabels=['l1','l2'], yticklabels=[0.01, 0.1, 1, 10])\n",
    "plt.yticks(rotation=0);"
   ]
  },
  {
   "cell_type": "code",
   "execution_count": null,
   "id": "1dd75038",
   "metadata": {},
   "outputs": [],
   "source": []
  }
 ],
 "metadata": {
  "kernelspec": {
   "display_name": "Python 3 (ipykernel)",
   "language": "python",
   "name": "python3"
  },
  "language_info": {
   "codemirror_mode": {
    "name": "ipython",
    "version": 3
   },
   "file_extension": ".py",
   "mimetype": "text/x-python",
   "name": "python",
   "nbconvert_exporter": "python",
   "pygments_lexer": "ipython3",
   "version": "3.10.0"
  }
 },
 "nbformat": 4,
 "nbformat_minor": 5
}
