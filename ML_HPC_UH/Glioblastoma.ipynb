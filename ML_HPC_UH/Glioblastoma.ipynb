{
 "cells": [
  {
   "cell_type": "markdown",
   "id": "7badc45c",
   "metadata": {},
   "source": [
    "Use the Machine Learning algorithms: Logistic Regression,\n",
    "KNN, K-means, Decision Tree, and Random Forest, with\n",
    "parameters optimization to classify Glioblastomas using the\n",
    "database Data_Glioblastoma5Patients_SC.csv and evaluate\n",
    "the performance."
   ]
  },
  {
   "cell_type": "code",
   "execution_count": null,
   "id": "20517f5c",
   "metadata": {},
   "outputs": [],
   "source": [
    "import os\n",
    "import pandas as pd"
   ]
  },
  {
   "cell_type": "markdown",
   "id": "4fb82148",
   "metadata": {},
   "source": [
    "Reading the data"
   ]
  },
  {
   "cell_type": "code",
   "execution_count": 2,
   "id": "19a3b472",
   "metadata": {},
   "outputs": [
    {
     "data": {
      "text/plain": [
       "(430, 5949)"
      ]
     },
     "execution_count": 2,
     "metadata": {},
     "output_type": "execute_result"
    }
   ],
   "source": [
    "Data = pd.read_csv(\"./Data_Glioblastoma5Patients_SC.csv\")\n",
    "Data.shape"
   ]
  },
  {
   "cell_type": "markdown",
   "id": "81e75377",
   "metadata": {},
   "source": [
    "It seems we have 430 rows and 5949 columns in the dataset."
   ]
  },
  {
   "cell_type": "code",
   "execution_count": 3,
   "id": "7a4a6498",
   "metadata": {
    "scrolled": true
   },
   "outputs": [
    {
     "data": {
      "text/html": [
       "<div>\n",
       "<style scoped>\n",
       "    .dataframe tbody tr th:only-of-type {\n",
       "        vertical-align: middle;\n",
       "    }\n",
       "\n",
       "    .dataframe tbody tr th {\n",
       "        vertical-align: top;\n",
       "    }\n",
       "\n",
       "    .dataframe thead th {\n",
       "        text-align: right;\n",
       "    }\n",
       "</style>\n",
       "<table border=\"1\" class=\"dataframe\">\n",
       "  <thead>\n",
       "    <tr style=\"text-align: right;\">\n",
       "      <th></th>\n",
       "      <th>A2M</th>\n",
       "      <th>AAAS</th>\n",
       "      <th>AAK1</th>\n",
       "      <th>AAMP</th>\n",
       "      <th>AARS</th>\n",
       "      <th>AARSD1</th>\n",
       "      <th>AASDH</th>\n",
       "      <th>AASDHPPT</th>\n",
       "      <th>AASS</th>\n",
       "      <th>AATF</th>\n",
       "      <th>...</th>\n",
       "      <th>ZSWIM6</th>\n",
       "      <th>ZSWIM7</th>\n",
       "      <th>ZUFSP</th>\n",
       "      <th>ZW10</th>\n",
       "      <th>ZWILCH</th>\n",
       "      <th>ZXDC</th>\n",
       "      <th>ZYG11B</th>\n",
       "      <th>ZYX</th>\n",
       "      <th>ZZZ3</th>\n",
       "      <th>Classes</th>\n",
       "    </tr>\n",
       "  </thead>\n",
       "  <tbody>\n",
       "    <tr>\n",
       "      <th>0</th>\n",
       "      <td>-3.80147</td>\n",
       "      <td>-3.889900</td>\n",
       "      <td>-3.985616</td>\n",
       "      <td>2.651558</td>\n",
       "      <td>2.170748</td>\n",
       "      <td>-2.550822</td>\n",
       "      <td>4.807330</td>\n",
       "      <td>3.961170</td>\n",
       "      <td>-0.192665</td>\n",
       "      <td>3.614482</td>\n",
       "      <td>...</td>\n",
       "      <td>2.909466</td>\n",
       "      <td>-3.118284</td>\n",
       "      <td>-1.538324</td>\n",
       "      <td>-1.550699</td>\n",
       "      <td>-1.558581</td>\n",
       "      <td>-1.920271</td>\n",
       "      <td>3.007439</td>\n",
       "      <td>-2.509017</td>\n",
       "      <td>-2.149696</td>\n",
       "      <td>1</td>\n",
       "    </tr>\n",
       "    <tr>\n",
       "      <th>1</th>\n",
       "      <td>-3.80147</td>\n",
       "      <td>-3.889900</td>\n",
       "      <td>-3.158708</td>\n",
       "      <td>2.358992</td>\n",
       "      <td>-6.041792</td>\n",
       "      <td>-0.056092</td>\n",
       "      <td>3.606735</td>\n",
       "      <td>-2.632250</td>\n",
       "      <td>2.249388</td>\n",
       "      <td>6.857517</td>\n",
       "      <td>...</td>\n",
       "      <td>-1.821098</td>\n",
       "      <td>-3.118284</td>\n",
       "      <td>-1.538324</td>\n",
       "      <td>-1.550699</td>\n",
       "      <td>-1.558581</td>\n",
       "      <td>-3.068620</td>\n",
       "      <td>2.539560</td>\n",
       "      <td>2.164481</td>\n",
       "      <td>-2.149696</td>\n",
       "      <td>1</td>\n",
       "    </tr>\n",
       "    <tr>\n",
       "      <th>2</th>\n",
       "      <td>-3.80147</td>\n",
       "      <td>-3.889900</td>\n",
       "      <td>1.733125</td>\n",
       "      <td>-5.820241</td>\n",
       "      <td>-6.041792</td>\n",
       "      <td>-0.576957</td>\n",
       "      <td>-2.473517</td>\n",
       "      <td>-4.354127</td>\n",
       "      <td>0.063178</td>\n",
       "      <td>-2.570976</td>\n",
       "      <td>...</td>\n",
       "      <td>-1.821098</td>\n",
       "      <td>5.521892</td>\n",
       "      <td>-1.538324</td>\n",
       "      <td>-1.550699</td>\n",
       "      <td>-1.558581</td>\n",
       "      <td>0.174665</td>\n",
       "      <td>-0.165409</td>\n",
       "      <td>0.734268</td>\n",
       "      <td>-2.149696</td>\n",
       "      <td>1</td>\n",
       "    </tr>\n",
       "    <tr>\n",
       "      <th>3</th>\n",
       "      <td>-3.80147</td>\n",
       "      <td>-3.889900</td>\n",
       "      <td>-1.665669</td>\n",
       "      <td>3.514271</td>\n",
       "      <td>-6.041792</td>\n",
       "      <td>-3.699171</td>\n",
       "      <td>4.509461</td>\n",
       "      <td>-4.354127</td>\n",
       "      <td>2.985972</td>\n",
       "      <td>-2.570976</td>\n",
       "      <td>...</td>\n",
       "      <td>4.952176</td>\n",
       "      <td>-0.854351</td>\n",
       "      <td>-1.538324</td>\n",
       "      <td>-1.550699</td>\n",
       "      <td>-1.558581</td>\n",
       "      <td>-3.068620</td>\n",
       "      <td>-1.884744</td>\n",
       "      <td>-2.509017</td>\n",
       "      <td>-2.149696</td>\n",
       "      <td>1</td>\n",
       "    </tr>\n",
       "    <tr>\n",
       "      <th>4</th>\n",
       "      <td>-3.80147</td>\n",
       "      <td>3.742495</td>\n",
       "      <td>-2.166992</td>\n",
       "      <td>-5.820241</td>\n",
       "      <td>2.094729</td>\n",
       "      <td>4.021873</td>\n",
       "      <td>5.535007</td>\n",
       "      <td>4.019633</td>\n",
       "      <td>2.560370</td>\n",
       "      <td>-2.570976</td>\n",
       "      <td>...</td>\n",
       "      <td>-1.821098</td>\n",
       "      <td>4.328808</td>\n",
       "      <td>-1.538324</td>\n",
       "      <td>7.021985</td>\n",
       "      <td>-1.558581</td>\n",
       "      <td>4.590946</td>\n",
       "      <td>-0.128456</td>\n",
       "      <td>-2.509017</td>\n",
       "      <td>-2.149696</td>\n",
       "      <td>1</td>\n",
       "    </tr>\n",
       "    <tr>\n",
       "      <th>5</th>\n",
       "      <td>-1.98770</td>\n",
       "      <td>-3.889900</td>\n",
       "      <td>4.691156</td>\n",
       "      <td>-4.006471</td>\n",
       "      <td>-3.449348</td>\n",
       "      <td>4.309767</td>\n",
       "      <td>4.002960</td>\n",
       "      <td>5.123457</td>\n",
       "      <td>0.341512</td>\n",
       "      <td>-2.570976</td>\n",
       "      <td>...</td>\n",
       "      <td>4.176419</td>\n",
       "      <td>-2.370500</td>\n",
       "      <td>-1.538324</td>\n",
       "      <td>-1.550699</td>\n",
       "      <td>-1.558581</td>\n",
       "      <td>-3.068620</td>\n",
       "      <td>-3.421540</td>\n",
       "      <td>-2.509017</td>\n",
       "      <td>-2.149696</td>\n",
       "      <td>1</td>\n",
       "    </tr>\n",
       "    <tr>\n",
       "      <th>6</th>\n",
       "      <td>-3.80147</td>\n",
       "      <td>-3.889900</td>\n",
       "      <td>2.656469</td>\n",
       "      <td>2.207608</td>\n",
       "      <td>-6.041792</td>\n",
       "      <td>4.235937</td>\n",
       "      <td>0.716257</td>\n",
       "      <td>-1.164354</td>\n",
       "      <td>2.630053</td>\n",
       "      <td>-2.570976</td>\n",
       "      <td>...</td>\n",
       "      <td>-1.821098</td>\n",
       "      <td>0.071490</td>\n",
       "      <td>-1.538324</td>\n",
       "      <td>5.651368</td>\n",
       "      <td>-1.558581</td>\n",
       "      <td>3.617386</td>\n",
       "      <td>1.384471</td>\n",
       "      <td>-2.509017</td>\n",
       "      <td>-2.149696</td>\n",
       "      <td>1</td>\n",
       "    </tr>\n",
       "    <tr>\n",
       "      <th>7</th>\n",
       "      <td>-3.80147</td>\n",
       "      <td>-3.889900</td>\n",
       "      <td>-1.914759</td>\n",
       "      <td>2.417820</td>\n",
       "      <td>3.162904</td>\n",
       "      <td>-3.699171</td>\n",
       "      <td>-2.473517</td>\n",
       "      <td>-4.354127</td>\n",
       "      <td>1.970206</td>\n",
       "      <td>-2.570976</td>\n",
       "      <td>...</td>\n",
       "      <td>-1.821098</td>\n",
       "      <td>3.615788</td>\n",
       "      <td>-1.538324</td>\n",
       "      <td>-1.550699</td>\n",
       "      <td>-1.558581</td>\n",
       "      <td>1.829214</td>\n",
       "      <td>5.237998</td>\n",
       "      <td>-2.509017</td>\n",
       "      <td>6.779879</td>\n",
       "      <td>1</td>\n",
       "    </tr>\n",
       "    <tr>\n",
       "      <th>8</th>\n",
       "      <td>-3.80147</td>\n",
       "      <td>-3.889900</td>\n",
       "      <td>0.483560</td>\n",
       "      <td>-5.820241</td>\n",
       "      <td>-6.041792</td>\n",
       "      <td>-3.699171</td>\n",
       "      <td>-2.473517</td>\n",
       "      <td>4.889074</td>\n",
       "      <td>-3.847544</td>\n",
       "      <td>-2.570976</td>\n",
       "      <td>...</td>\n",
       "      <td>-1.821098</td>\n",
       "      <td>-3.118284</td>\n",
       "      <td>-1.538324</td>\n",
       "      <td>-1.550699</td>\n",
       "      <td>-1.558581</td>\n",
       "      <td>-3.068620</td>\n",
       "      <td>-0.775154</td>\n",
       "      <td>1.953289</td>\n",
       "      <td>-2.149696</td>\n",
       "      <td>1</td>\n",
       "    </tr>\n",
       "    <tr>\n",
       "      <th>9</th>\n",
       "      <td>-3.80147</td>\n",
       "      <td>4.316243</td>\n",
       "      <td>1.828663</td>\n",
       "      <td>2.140173</td>\n",
       "      <td>-6.041792</td>\n",
       "      <td>3.721094</td>\n",
       "      <td>3.479903</td>\n",
       "      <td>-4.354127</td>\n",
       "      <td>-4.860593</td>\n",
       "      <td>-2.570976</td>\n",
       "      <td>...</td>\n",
       "      <td>-1.821098</td>\n",
       "      <td>-0.860025</td>\n",
       "      <td>0.841462</td>\n",
       "      <td>-1.550699</td>\n",
       "      <td>-1.558581</td>\n",
       "      <td>5.157919</td>\n",
       "      <td>4.710859</td>\n",
       "      <td>5.078266</td>\n",
       "      <td>4.977025</td>\n",
       "      <td>1</td>\n",
       "    </tr>\n",
       "  </tbody>\n",
       "</table>\n",
       "<p>10 rows × 5949 columns</p>\n",
       "</div>"
      ],
      "text/plain": [
       "       A2M      AAAS      AAK1      AAMP      AARS    AARSD1     AASDH  \\\n",
       "0 -3.80147 -3.889900 -3.985616  2.651558  2.170748 -2.550822  4.807330   \n",
       "1 -3.80147 -3.889900 -3.158708  2.358992 -6.041792 -0.056092  3.606735   \n",
       "2 -3.80147 -3.889900  1.733125 -5.820241 -6.041792 -0.576957 -2.473517   \n",
       "3 -3.80147 -3.889900 -1.665669  3.514271 -6.041792 -3.699171  4.509461   \n",
       "4 -3.80147  3.742495 -2.166992 -5.820241  2.094729  4.021873  5.535007   \n",
       "5 -1.98770 -3.889900  4.691156 -4.006471 -3.449348  4.309767  4.002960   \n",
       "6 -3.80147 -3.889900  2.656469  2.207608 -6.041792  4.235937  0.716257   \n",
       "7 -3.80147 -3.889900 -1.914759  2.417820  3.162904 -3.699171 -2.473517   \n",
       "8 -3.80147 -3.889900  0.483560 -5.820241 -6.041792 -3.699171 -2.473517   \n",
       "9 -3.80147  4.316243  1.828663  2.140173 -6.041792  3.721094  3.479903   \n",
       "\n",
       "   AASDHPPT      AASS      AATF  ...    ZSWIM6    ZSWIM7     ZUFSP      ZW10  \\\n",
       "0  3.961170 -0.192665  3.614482  ...  2.909466 -3.118284 -1.538324 -1.550699   \n",
       "1 -2.632250  2.249388  6.857517  ... -1.821098 -3.118284 -1.538324 -1.550699   \n",
       "2 -4.354127  0.063178 -2.570976  ... -1.821098  5.521892 -1.538324 -1.550699   \n",
       "3 -4.354127  2.985972 -2.570976  ...  4.952176 -0.854351 -1.538324 -1.550699   \n",
       "4  4.019633  2.560370 -2.570976  ... -1.821098  4.328808 -1.538324  7.021985   \n",
       "5  5.123457  0.341512 -2.570976  ...  4.176419 -2.370500 -1.538324 -1.550699   \n",
       "6 -1.164354  2.630053 -2.570976  ... -1.821098  0.071490 -1.538324  5.651368   \n",
       "7 -4.354127  1.970206 -2.570976  ... -1.821098  3.615788 -1.538324 -1.550699   \n",
       "8  4.889074 -3.847544 -2.570976  ... -1.821098 -3.118284 -1.538324 -1.550699   \n",
       "9 -4.354127 -4.860593 -2.570976  ... -1.821098 -0.860025  0.841462 -1.550699   \n",
       "\n",
       "     ZWILCH      ZXDC    ZYG11B       ZYX      ZZZ3  Classes  \n",
       "0 -1.558581 -1.920271  3.007439 -2.509017 -2.149696        1  \n",
       "1 -1.558581 -3.068620  2.539560  2.164481 -2.149696        1  \n",
       "2 -1.558581  0.174665 -0.165409  0.734268 -2.149696        1  \n",
       "3 -1.558581 -3.068620 -1.884744 -2.509017 -2.149696        1  \n",
       "4 -1.558581  4.590946 -0.128456 -2.509017 -2.149696        1  \n",
       "5 -1.558581 -3.068620 -3.421540 -2.509017 -2.149696        1  \n",
       "6 -1.558581  3.617386  1.384471 -2.509017 -2.149696        1  \n",
       "7 -1.558581  1.829214  5.237998 -2.509017  6.779879        1  \n",
       "8 -1.558581 -3.068620 -0.775154  1.953289 -2.149696        1  \n",
       "9 -1.558581  5.157919  4.710859  5.078266  4.977025        1  \n",
       "\n",
       "[10 rows x 5949 columns]"
      ]
     },
     "execution_count": 3,
     "metadata": {},
     "output_type": "execute_result"
    }
   ],
   "source": [
    "Data.head(10)"
   ]
  },
  {
   "cell_type": "markdown",
   "id": "6b025edb",
   "metadata": {},
   "source": [
    "'Classes' column in the dataset contains the labels. So, I am going to check how many unique labels are there."
   ]
  },
  {
   "cell_type": "code",
   "execution_count": 4,
   "id": "b8822ea7",
   "metadata": {},
   "outputs": [
    {
     "data": {
      "text/plain": [
       "array([1, 2, 3, 4, 5])"
      ]
     },
     "execution_count": 4,
     "metadata": {},
     "output_type": "execute_result"
    }
   ],
   "source": [
    "Data['Classes'].unique()"
   ]
  },
  {
   "cell_type": "markdown",
   "id": "821482df",
   "metadata": {},
   "source": [
    "Now, I am going to define the features and labels from the dataset."
   ]
  },
  {
   "cell_type": "code",
   "execution_count": 5,
   "id": "75160f63",
   "metadata": {},
   "outputs": [
    {
     "data": {
      "text/html": [
       "<div>\n",
       "<style scoped>\n",
       "    .dataframe tbody tr th:only-of-type {\n",
       "        vertical-align: middle;\n",
       "    }\n",
       "\n",
       "    .dataframe tbody tr th {\n",
       "        vertical-align: top;\n",
       "    }\n",
       "\n",
       "    .dataframe thead th {\n",
       "        text-align: right;\n",
       "    }\n",
       "</style>\n",
       "<table border=\"1\" class=\"dataframe\">\n",
       "  <thead>\n",
       "    <tr style=\"text-align: right;\">\n",
       "      <th></th>\n",
       "      <th>A2M</th>\n",
       "      <th>AAAS</th>\n",
       "      <th>AAK1</th>\n",
       "      <th>AAMP</th>\n",
       "      <th>AARS</th>\n",
       "      <th>AARSD1</th>\n",
       "      <th>AASDH</th>\n",
       "      <th>AASDHPPT</th>\n",
       "      <th>AASS</th>\n",
       "      <th>AATF</th>\n",
       "      <th>...</th>\n",
       "      <th>ZSCAN30</th>\n",
       "      <th>ZSWIM6</th>\n",
       "      <th>ZSWIM7</th>\n",
       "      <th>ZUFSP</th>\n",
       "      <th>ZW10</th>\n",
       "      <th>ZWILCH</th>\n",
       "      <th>ZXDC</th>\n",
       "      <th>ZYG11B</th>\n",
       "      <th>ZYX</th>\n",
       "      <th>ZZZ3</th>\n",
       "    </tr>\n",
       "  </thead>\n",
       "  <tbody>\n",
       "    <tr>\n",
       "      <th>0</th>\n",
       "      <td>-3.80147</td>\n",
       "      <td>-3.889900</td>\n",
       "      <td>-3.985616</td>\n",
       "      <td>2.651558</td>\n",
       "      <td>2.170748</td>\n",
       "      <td>-2.550822</td>\n",
       "      <td>4.807330</td>\n",
       "      <td>3.961170</td>\n",
       "      <td>-0.192665</td>\n",
       "      <td>3.614482</td>\n",
       "      <td>...</td>\n",
       "      <td>6.262256</td>\n",
       "      <td>2.909466</td>\n",
       "      <td>-3.118284</td>\n",
       "      <td>-1.538324</td>\n",
       "      <td>-1.550699</td>\n",
       "      <td>-1.558581</td>\n",
       "      <td>-1.920271</td>\n",
       "      <td>3.007439</td>\n",
       "      <td>-2.509017</td>\n",
       "      <td>-2.149696</td>\n",
       "    </tr>\n",
       "    <tr>\n",
       "      <th>1</th>\n",
       "      <td>-3.80147</td>\n",
       "      <td>-3.889900</td>\n",
       "      <td>-3.158708</td>\n",
       "      <td>2.358992</td>\n",
       "      <td>-6.041792</td>\n",
       "      <td>-0.056092</td>\n",
       "      <td>3.606735</td>\n",
       "      <td>-2.632250</td>\n",
       "      <td>2.249388</td>\n",
       "      <td>6.857517</td>\n",
       "      <td>...</td>\n",
       "      <td>2.912340</td>\n",
       "      <td>-1.821098</td>\n",
       "      <td>-3.118284</td>\n",
       "      <td>-1.538324</td>\n",
       "      <td>-1.550699</td>\n",
       "      <td>-1.558581</td>\n",
       "      <td>-3.068620</td>\n",
       "      <td>2.539560</td>\n",
       "      <td>2.164481</td>\n",
       "      <td>-2.149696</td>\n",
       "    </tr>\n",
       "    <tr>\n",
       "      <th>2</th>\n",
       "      <td>-3.80147</td>\n",
       "      <td>-3.889900</td>\n",
       "      <td>1.733125</td>\n",
       "      <td>-5.820241</td>\n",
       "      <td>-6.041792</td>\n",
       "      <td>-0.576957</td>\n",
       "      <td>-2.473517</td>\n",
       "      <td>-4.354127</td>\n",
       "      <td>0.063178</td>\n",
       "      <td>-2.570976</td>\n",
       "      <td>...</td>\n",
       "      <td>-2.593571</td>\n",
       "      <td>-1.821098</td>\n",
       "      <td>5.521892</td>\n",
       "      <td>-1.538324</td>\n",
       "      <td>-1.550699</td>\n",
       "      <td>-1.558581</td>\n",
       "      <td>0.174665</td>\n",
       "      <td>-0.165409</td>\n",
       "      <td>0.734268</td>\n",
       "      <td>-2.149696</td>\n",
       "    </tr>\n",
       "    <tr>\n",
       "      <th>3</th>\n",
       "      <td>-3.80147</td>\n",
       "      <td>-3.889900</td>\n",
       "      <td>-1.665669</td>\n",
       "      <td>3.514271</td>\n",
       "      <td>-6.041792</td>\n",
       "      <td>-3.699171</td>\n",
       "      <td>4.509461</td>\n",
       "      <td>-4.354127</td>\n",
       "      <td>2.985972</td>\n",
       "      <td>-2.570976</td>\n",
       "      <td>...</td>\n",
       "      <td>4.453041</td>\n",
       "      <td>4.952176</td>\n",
       "      <td>-0.854351</td>\n",
       "      <td>-1.538324</td>\n",
       "      <td>-1.550699</td>\n",
       "      <td>-1.558581</td>\n",
       "      <td>-3.068620</td>\n",
       "      <td>-1.884744</td>\n",
       "      <td>-2.509017</td>\n",
       "      <td>-2.149696</td>\n",
       "    </tr>\n",
       "    <tr>\n",
       "      <th>4</th>\n",
       "      <td>-3.80147</td>\n",
       "      <td>3.742495</td>\n",
       "      <td>-2.166992</td>\n",
       "      <td>-5.820241</td>\n",
       "      <td>2.094729</td>\n",
       "      <td>4.021873</td>\n",
       "      <td>5.535007</td>\n",
       "      <td>4.019633</td>\n",
       "      <td>2.560370</td>\n",
       "      <td>-2.570976</td>\n",
       "      <td>...</td>\n",
       "      <td>-2.593571</td>\n",
       "      <td>-1.821098</td>\n",
       "      <td>4.328808</td>\n",
       "      <td>-1.538324</td>\n",
       "      <td>7.021985</td>\n",
       "      <td>-1.558581</td>\n",
       "      <td>4.590946</td>\n",
       "      <td>-0.128456</td>\n",
       "      <td>-2.509017</td>\n",
       "      <td>-2.149696</td>\n",
       "    </tr>\n",
       "  </tbody>\n",
       "</table>\n",
       "<p>5 rows × 5948 columns</p>\n",
       "</div>"
      ],
      "text/plain": [
       "       A2M      AAAS      AAK1      AAMP      AARS    AARSD1     AASDH  \\\n",
       "0 -3.80147 -3.889900 -3.985616  2.651558  2.170748 -2.550822  4.807330   \n",
       "1 -3.80147 -3.889900 -3.158708  2.358992 -6.041792 -0.056092  3.606735   \n",
       "2 -3.80147 -3.889900  1.733125 -5.820241 -6.041792 -0.576957 -2.473517   \n",
       "3 -3.80147 -3.889900 -1.665669  3.514271 -6.041792 -3.699171  4.509461   \n",
       "4 -3.80147  3.742495 -2.166992 -5.820241  2.094729  4.021873  5.535007   \n",
       "\n",
       "   AASDHPPT      AASS      AATF  ...   ZSCAN30    ZSWIM6    ZSWIM7     ZUFSP  \\\n",
       "0  3.961170 -0.192665  3.614482  ...  6.262256  2.909466 -3.118284 -1.538324   \n",
       "1 -2.632250  2.249388  6.857517  ...  2.912340 -1.821098 -3.118284 -1.538324   \n",
       "2 -4.354127  0.063178 -2.570976  ... -2.593571 -1.821098  5.521892 -1.538324   \n",
       "3 -4.354127  2.985972 -2.570976  ...  4.453041  4.952176 -0.854351 -1.538324   \n",
       "4  4.019633  2.560370 -2.570976  ... -2.593571 -1.821098  4.328808 -1.538324   \n",
       "\n",
       "       ZW10    ZWILCH      ZXDC    ZYG11B       ZYX      ZZZ3  \n",
       "0 -1.550699 -1.558581 -1.920271  3.007439 -2.509017 -2.149696  \n",
       "1 -1.550699 -1.558581 -3.068620  2.539560  2.164481 -2.149696  \n",
       "2 -1.550699 -1.558581  0.174665 -0.165409  0.734268 -2.149696  \n",
       "3 -1.550699 -1.558581 -3.068620 -1.884744 -2.509017 -2.149696  \n",
       "4  7.021985 -1.558581  4.590946 -0.128456 -2.509017 -2.149696  \n",
       "\n",
       "[5 rows x 5948 columns]"
      ]
     },
     "execution_count": 5,
     "metadata": {},
     "output_type": "execute_result"
    }
   ],
   "source": [
    "X = Data.drop(columns = \"Classes\")\n",
    "X.head(5)"
   ]
  },
  {
   "cell_type": "code",
   "execution_count": 6,
   "id": "2f9f0de3",
   "metadata": {},
   "outputs": [
    {
     "data": {
      "text/plain": [
       "0    1\n",
       "1    1\n",
       "2    1\n",
       "3    1\n",
       "4    1\n",
       "Name: Classes, dtype: int64"
      ]
     },
     "execution_count": 6,
     "metadata": {},
     "output_type": "execute_result"
    }
   ],
   "source": [
    "y = Data[\"Classes\"]\n",
    "y.head(5)"
   ]
  },
  {
   "cell_type": "markdown",
   "id": "df14c302",
   "metadata": {},
   "source": [
    "Now, I will split the dataset into training and test dataset where I will be using 80% of the dataset for training and remianing 20% for testing."
   ]
  },
  {
   "cell_type": "code",
   "execution_count": 7,
   "id": "ce8481b4",
   "metadata": {},
   "outputs": [],
   "source": [
    "from sklearn.model_selection import train_test_split\n",
    "\n",
    "X_train, X_test, y_train, y_test = train_test_split(X, y, test_size=0.2, random_state=0)"
   ]
  },
  {
   "cell_type": "code",
   "execution_count": 8,
   "id": "6830d4d1",
   "metadata": {},
   "outputs": [
    {
     "name": "stdout",
     "output_type": "stream",
     "text": [
      "(344, 5948) (86, 5948) (344,) (86,)\n"
     ]
    }
   ],
   "source": [
    "print(X_train.shape, X_test.shape, y_train.shape, y_test.shape)"
   ]
  },
  {
   "cell_type": "markdown",
   "id": "8fecd182",
   "metadata": {},
   "source": [
    "Next, I want to use different machine learning algorithms namely: Logistic Regression, KNN, Decision Tree, and Random Forest to fit the data."
   ]
  },
  {
   "cell_type": "code",
   "execution_count": 9,
   "id": "be19bb00",
   "metadata": {},
   "outputs": [
    {
     "name": "stdout",
     "output_type": "stream",
     "text": [
      "LR: 0.982353 (0.019510)\n",
      "KNN: 0.634034 (0.070064)\n",
      "DT: 0.866134 (0.040134)\n",
      "RF: 0.965042 (0.028550)\n"
     ]
    }
   ],
   "source": [
    "from sklearn.linear_model import LogisticRegression\n",
    "from sklearn.neighbors import KNeighborsClassifier\n",
    "from sklearn.ensemble import RandomForestClassifier\n",
    "from sklearn import tree, model_selection\n",
    "from sklearn.svm import SVC\n",
    "from sklearn.metrics import accuracy_score\n",
    "\n",
    "models = []\n",
    "\n",
    "models.append(('LR', LogisticRegression()))\n",
    "models.append(('KNN', KNeighborsClassifier()))\n",
    "models.append(('DT', tree.DecisionTreeClassifier()))\n",
    "models.append(('RF', RandomForestClassifier()))\n",
    "\n",
    "results = []\n",
    "names = []\n",
    "\n",
    "\n",
    "for name, model in models:\n",
    "    kfold = model_selection.KFold(n_splits=10, shuffle = True, random_state=0)\n",
    "    cv_results = model_selection.cross_val_score(model, X_train, y_train, cv=kfold, scoring='accuracy')\n",
    "    results.append(cv_results)\n",
    "    names.append(name)\n",
    "    print(\"%s: %f (%f)\" % (name, cv_results.mean(), cv_results.std()))\n"
   ]
  },
  {
   "cell_type": "markdown",
   "id": "776c056e",
   "metadata": {},
   "source": [
    "It seems like Linear Regression is the best fit for our data with an accuracy of 0.98. We can also check this by plotting"
   ]
  },
  {
   "cell_type": "code",
   "execution_count": 10,
   "id": "b0e884c1",
   "metadata": {},
   "outputs": [
    {
     "data": {
      "image/png": "[encoded data removed]",
      "text/plain": [
       "<Figure size 432x288 with 1 Axes>"
      ]
     },
     "metadata": {
      "needs_background": "light"
     },
     "output_type": "display_data"
    }
   ],
   "source": [
    "import matplotlib.pyplot as plt\n",
    "import matplotlib.colors as colors\n",
    "from mpl_toolkits.axes_grid1 import make_axes_locatable\n",
    "import seaborn as sns\n",
    "\n",
    "fig = plt.figure()\n",
    "fig.suptitle('Algorithm Comparison')\n",
    "ax = fig.add_subplot(111)\n",
    "plt.boxplot(results)\n",
    "ax.set_xticklabels(names)\n",
    "plt.show()"
   ]
  },
  {
   "cell_type": "markdown",
   "id": "3f721444",
   "metadata": {},
   "source": [
    "Plot confirms that logistic regression is the best model. Now, I want to make sure if LR best fits the test dataset as well."
   ]
  },
  {
   "cell_type": "code",
   "execution_count": 11,
   "id": "86f22a88",
   "metadata": {},
   "outputs": [
    {
     "name": "stdout",
     "output_type": "stream",
     "text": [
      "0.9767441860465116\n",
      "[[23  0  0  0  1]\n",
      " [ 0 23  0  0  0]\n",
      " [ 0  0 12  0  0]\n",
      " [ 1  0  0 13  0]\n",
      " [ 0  0  0  0 13]]\n"
     ]
    },
    {
     "name": "stderr",
     "output_type": "stream",
     "text": [
      "/Users/ka422/Library/Python/3.10/lib/python/site-packages/sklearn/linear_model/_logistic.py:1264: FutureWarning: 'multi_class' was deprecated in version 1.5 and will be removed in 1.7. From then on, it will always use 'multinomial'. Leave it to its default value to avoid this warning.\n",
      "  warnings.warn(\n"
     ]
    }
   ],
   "source": [
    "from sklearn.metrics import confusion_matrix\n",
    "\n",
    "LR = LogisticRegression(random_state=0, solver='lbfgs', multi_class='multinomial')\n",
    "LR.fit(X_train, y_train)\n",
    "\n",
    "# Now, I want to make predictions on the validation data set and print out accuracy score and confusion matrix\n",
    "predictions = LR.predict(X_test)\n",
    "\n",
    "print(accuracy_score(y_test, predictions))\n",
    "print(confusion_matrix(y_test, predictions))\n"
   ]
  },
  {
   "cell_type": "markdown",
   "id": "d05ef577",
   "metadata": {},
   "source": [
    "The accuracy score for the test dataset using the LR is ~ 0.98, which is similar to that of training datset, suggesting the best model. This also get validated by the confusuin matrix, where we can see there are only two instances of misclassification."
   ]
  },
  {
   "cell_type": "markdown",
   "id": "7384e7dd",
   "metadata": {},
   "source": [
    "Random Forest had an accuracy of 0.95 for training dataset. Now, we can check the accuracy of this model on the test dataset."
   ]
  },
  {
   "cell_type": "code",
   "execution_count": 12,
   "id": "592a998b",
   "metadata": {},
   "outputs": [
    {
     "name": "stdout",
     "output_type": "stream",
     "text": [
      "0.9883720930232558\n",
      "[[24  0  0  0  0]\n",
      " [ 0 23  0  0  0]\n",
      " [ 0  0 12  0  0]\n",
      " [ 1  0  0 13  0]\n",
      " [ 0  0  0  0 13]]\n"
     ]
    }
   ],
   "source": [
    "RF = RandomForestClassifier()\n",
    "RF.fit(X_train, y_train)\n",
    "predictions = RF.predict(X_test)\n",
    "print(accuracy_score(y_test, predictions))\n",
    "print(confusion_matrix(y_test, predictions))"
   ]
  },
  {
   "cell_type": "markdown",
   "id": "96b2dc41",
   "metadata": {},
   "source": [
    "The accuracy of RF for test set is 0.95, which is similar to the training dataset but lowe than that of LR. We can check if the accuracy of this model can be increased by iterating over classifier."
   ]
  },
  {
   "cell_type": "code",
   "execution_count": 13,
   "id": "18bb772b",
   "metadata": {},
   "outputs": [
    {
     "name": "stdout",
     "output_type": "stream",
     "text": [
      "0.9534883720930233\n",
      "[[23  1  0  0  0]\n",
      " [ 0 23  0  0  0]\n",
      " [ 0  0 12  0  0]\n",
      " [ 0  0  0 13  1]\n",
      " [ 1  0  0  1 11]]\n"
     ]
    }
   ],
   "source": [
    "clf = RandomForestClassifier(n_estimators=20, random_state=0)\n",
    "\n",
    "clf.fit(X_train,y_train)\n",
    "conf_te = confusion_matrix(y_test, clf.predict(X_test))\n",
    "\n",
    "import numpy as np\n",
    "def accuracy(conf):\n",
    "    total_correct = 0.\n",
    "    nb_classes = conf.shape[0]\n",
    "    for i in np.arange(0,nb_classes):\n",
    "        total_correct += conf[i][i]\n",
    "    acc = total_correct/sum(sum(conf))\n",
    "    return acc\n",
    "print(accuracy(conf_te),)\n",
    "print (conf_te)"
   ]
  },
  {
   "cell_type": "markdown",
   "id": "a5a524c1",
   "metadata": {},
   "source": [
    "As we can see the performance of the model doesn't increase by iterating over the classifier."
   ]
  },
  {
   "cell_type": "markdown",
   "id": "b21b1dd4",
   "metadata": {},
   "source": [
    "Next, we can check how the Decision Tree performs on our test dataset."
   ]
  },
  {
   "cell_type": "code",
   "execution_count": 14,
   "id": "4edb7148",
   "metadata": {},
   "outputs": [
    {
     "name": "stdout",
     "output_type": "stream",
     "text": [
      "0.872093023255814\n",
      "[[23  0  0  0  1]\n",
      " [ 1 21  1  0  0]\n",
      " [ 0  1 11  0  0]\n",
      " [ 0  1  2 11  0]\n",
      " [ 0  1  1  2  9]]\n"
     ]
    }
   ],
   "source": [
    "DT=tree.DecisionTreeClassifier()\n",
    "DT.fit(X_train, y_train)\n",
    "predictions = DT.predict(X_test)\n",
    "print(accuracy_score(y_test, predictions))\n",
    "print(confusion_matrix(y_test, predictions))"
   ]
  },
  {
   "cell_type": "markdown",
   "id": "38b99bf6",
   "metadata": {},
   "source": [
    "Decision tree performs similar for both training and test datasets. Now, we can try the KNN classifier."
   ]
  },
  {
   "cell_type": "code",
   "execution_count": 15,
   "id": "b4a69dd5",
   "metadata": {},
   "outputs": [
    {
     "data": {
      "image/png": "[encoded data removed]",
      "text/plain": [
       "<Figure size 432x288 with 1 Axes>"
      ]
     },
     "metadata": {
      "needs_background": "light"
     },
     "output_type": "display_data"
    }
   ],
   "source": [
    "#KNN Classifier \n",
    "training_accuracy = []\n",
    "test_accuracy = []\n",
    "\n",
    "#Here, I am going to try KNN for diffrent k nearest neighbor from 1 to 20\n",
    "neighbors_setting = range(1,20)\n",
    "\n",
    "for n_neighbors in neighbors_setting:\n",
    "    knn = KNeighborsClassifier(n_neighbors=n_neighbors)\n",
    "    knn.fit(X_train,y_train)\n",
    "    training_accuracy.append(knn.score(X_train, y_train))\n",
    "    test_accuracy.append(knn.score(X_test, y_test))\n",
    " \n",
    "plt.plot(neighbors_setting,training_accuracy, label='Accuracy of the training set')\n",
    "plt.plot(neighbors_setting,test_accuracy, label='Accuracy of the test set')\n",
    "plt.ylabel('Accuracy')\n",
    "plt.xlabel('Number of Neighbors')\n",
    "plt.legend()\n",
    "plt.show()"
   ]
  },
  {
   "cell_type": "markdown",
   "id": "37f46a6f",
   "metadata": {},
   "source": [
    "By looking at the plot, it doesn't look like the accuracy of training and test set match each other but they get closer to each other whennumber of neighbors are 8 and 17. But those test accuracy are lower than what we observed with LR and RF."
   ]
  },
  {
   "cell_type": "markdown",
   "id": "2b1a774a",
   "metadata": {},
   "source": [
    "Next, we can look at KMeans algorithm."
   ]
  },
  {
   "cell_type": "code",
   "execution_count": 16,
   "id": "f2d745a0",
   "metadata": {},
   "outputs": [
    {
     "name": "stdout",
     "output_type": "stream",
     "text": [
      "0.23255813953488372\n",
      "[[ 0  0  0  0  0  0]\n",
      " [21  1  2  0  0  0]\n",
      " [ 0  4 19  0  0  0]\n",
      " [ 1  0 11  0  0  0]\n",
      " [ 3  2  9  0  0  0]\n",
      " [ 0 10  3  0  0  0]]\n"
     ]
    }
   ],
   "source": [
    "from sklearn.cluster import KMeans\n",
    "clf = KMeans(n_clusters=3, random_state=1)\n",
    "clf.fit(X_train,y_train)\n",
    "conf_te = confusion_matrix(y_test, clf.predict(X_test))\n",
    "def accuracy(conf):\n",
    "    total_correct = 0.\n",
    "    nb_classes = conf.shape[0]\n",
    "    for i in np.arange(0,nb_classes):\n",
    "        total_correct += conf[i][i]\n",
    "    acc = total_correct/sum(sum(conf))\n",
    "    return acc\n",
    "\n",
    "print(accuracy(conf_te),)\n",
    "print(conf_te)"
   ]
  },
  {
   "cell_type": "markdown",
   "id": "0ed3ba1e",
   "metadata": {},
   "source": [
    "KMeans seems to do worse with our dataset."
   ]
  },
  {
   "cell_type": "markdown",
   "id": "1f8b7b12",
   "metadata": {},
   "source": [
    "So, Logistic Regression seems to be the model that best fits our dataset."
   ]
  },
  {
   "cell_type": "code",
   "execution_count": null,
   "id": "5946fb23",
   "metadata": {},
   "outputs": [],
   "source": []
  }
 ],
 "metadata": {
  "kernelspec": {
   "display_name": "Python 3 (ipykernel)",
   "language": "python",
   "name": "python3"
  },
  "language_info": {
   "codemirror_mode": {
    "name": "ipython",
    "version": 3
   },
   "file_extension": ".py",
   "mimetype": "text/x-python",
   "name": "python",
   "nbconvert_exporter": "python",
   "pygments_lexer": "ipython3",
   "version": "3.10.0"
  }
 },
 "nbformat": 4,
 "nbformat_minor": 5
}
